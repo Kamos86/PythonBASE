{
  "nbformat": 4,
  "nbformat_minor": 0,
  "metadata": {
    "colab": {
      "name": "Average Circle",
      "version": "0.3.2",
      "provenance": [],
      "collapsed_sections": [],
      "toc_visible": true
    },
    "kernelspec": {
      "name": "python3",
      "display_name": "Python 3"
    },
    "accelerator": "GPU"
  },
  "cells": [
    {
      "metadata": {
        "id": "G4QHnEtZNgH4",
        "colab_type": "code",
        "colab": {}
      },
      "cell_type": "code",
      "source": [
        "!pip install pillow"
      ],
      "execution_count": 0,
      "outputs": []
    },
    {
      "metadata": {
        "id": "A5zr9NmGeVi7",
        "colab_type": "code",
        "outputId": "401e3ff2-3ccb-4617-9136-3e1ef3f1b465",
        "colab": {
          "base_uri": "https://localhost:8080/",
          "height": 290
        }
      },
      "cell_type": "code",
      "source": [
        "from PIL import Image, ImageDraw, ImageFont\n",
        "import math \n",
        "sz = 128\n",
        "\n",
        "\n",
        "def getxy(hour):\n",
        "    x = math.sin((180 - hour * 15)/180 * 3.141)\n",
        "    y = math.cos((180 - hour * 15)/180 * 3.141)\n",
        "    return x, y\n",
        "\n",
        "\n",
        "def from_center(ratio):\n",
        "    return lambda z: sz + sz * ratio * z\n",
        "\n",
        "place34 = from_center(3/4)\n",
        "place78 = from_center(7/8)\n",
        "\n",
        "rad_to_deg = lambda x: 180 * x / 3.14159\n",
        " \n",
        "\n",
        "\n",
        "    \n",
        "    \n",
        "def  draw_circle(*points):\n",
        "    def draw_time_point(x1, y1, **kwargs):\n",
        "    \n",
        "        draw.ellipse((place34(x1) - 5, \n",
        "                      place34(y1) - 5,\n",
        "                      place34(x1) + 5,\n",
        "                      place34(y1) + 5),\n",
        "                     **kwargs)\n",
        "        \n",
        "        \n",
        "    im = Image.new('RGB',(2 * sz, 2*sz))\n",
        "    draw = ImageDraw.Draw(im)\n",
        "    draw.rectangle((0,0) + im.size, fill=(256, 256, 256))\n",
        "    draw.ellipse((sz / 4,\n",
        "                  sz / 4,\n",
        "                  sz * 7 / 4,\n",
        "                  sz * 7 / 4), outline = 0) \n",
        "    \n",
        "    for i in range(24):\n",
        "        x,y = getxy(i)\n",
        "        draw.line((sz,\n",
        "                   sz, \n",
        "                   place34(x), \n",
        "                   place34(y)),            \n",
        "                  fill = 0) \n",
        "        \n",
        "        draw.text((place78(x) - 5 - 2*y,  # slight rotation to align numbers \n",
        "                   place78(y) - 5 + 2*x ), \n",
        "                  str(i), \n",
        "                  fill = 0)\n",
        "        \n",
        " \n",
        "    if len(points):\n",
        "        xx, yy = list(zip(*[ getxy(p) for p in points]))\n",
        "        for x1, y1 in zip(xx, yy):\n",
        "            draw_time_point(x1, y1, outline = (200,5,5), fill=(250,9,9))\n",
        "            \n",
        "        xm = sum(xx)/len(xx)\n",
        "        ym = sum(yy)/len(yy)\n",
        "        draw_time_point(xm, ym, outline = (0,215,5), fill=(100,9,139))\n",
        "        \n",
        "        r = math.sqrt(xm**2 + ym**2)\n",
        "        avg = math.atan2(ym, xm)\n",
        "        arc = math.acos(r)\n",
        "        print(r,avg,arc)\n",
        "        \n",
        "        draw.chord(xy=(sz/4,\n",
        "                       sz/4,\n",
        "                       sz * 7/4,\n",
        "                       sz * 7/4),\n",
        "                   start=rad_to_deg(avg - arc),\n",
        "                   end=rad_to_deg(avg + arc),\n",
        "                   outline=(0,200,0))\n",
        "        \n",
        "    return im\n",
        "draw_circle(10,11,12)"
      ],
      "execution_count": 0,
      "outputs": [
        {
          "output_type": "stream",
          "text": [
            "0.9772924050760383 1.3090463267948966 0.21351373862143277\n"
          ],
          "name": "stdout"
        },
        {
          "output_type": "execute_result",
          "data": {
            "image/png": "[encoded data removed]",
            "text/plain": [
              "<PIL.Image.Image image mode=RGB size=256x256 at 0x7F7FF7A95B38>"
            ]
          },
          "metadata": {
            "tags": []
          },
          "execution_count": 18
        }
      ]
    },
    {
      "metadata": {
        "id": "I3v9CCjO8B-y",
        "colab_type": "code",
        "outputId": "18cc89fc-9375-4296-cd8b-a87061249667",
        "colab": {
          "base_uri": "https://localhost:8080/",
          "height": 290
        }
      },
      "cell_type": "code",
      "source": [
        "draw_circle(10,11)"
      ],
      "execution_count": 0,
      "outputs": [
        {
          "output_type": "stream",
          "text": [
            "0.9914480842722068 1.1781713267948966 0.1308749999999996\n"
          ],
          "name": "stdout"
        },
        {
          "output_type": "execute_result",
          "data": {
            "image/png": "[encoded data removed]",
            "text/plain": [
              "<PIL.Image.Image image mode=RGB size=256x256 at 0x7F7FF7ACC9E8>"
            ]
          },
          "metadata": {
            "tags": []
          },
          "execution_count": 19
        }
      ]
    },
    {
      "metadata": {
        "id": "8fJ5kBTU8B6h",
        "colab_type": "code",
        "outputId": "8dfdb7ae-dc2a-40d4-e6c5-bafe7435e3f9",
        "colab": {
          "base_uri": "https://localhost:8080/",
          "height": 290
        }
      },
      "cell_type": "code",
      "source": [
        "draw_circle(20,21,22,23)"
      ],
      "execution_count": 0,
      "outputs": [
        {
          "output_type": "stream",
          "text": [
            "0.95767798204352 -2.2257639803846896 0.2919724615234667\n"
          ],
          "name": "stdout"
        },
        {
          "output_type": "execute_result",
          "data": {
            "image/png": "[encoded data removed]",
            "text/plain": [
              "<PIL.Image.Image image mode=RGB size=256x256 at 0x7F7FF7ACC080>"
            ]
          },
          "metadata": {
            "tags": []
          },
          "execution_count": 20
        }
      ]
    },
    {
      "metadata": {
        "id": "9AVCYBn88B32",
        "colab_type": "code",
        "outputId": "eac2efda-f6db-4d4b-c37b-865da7d57eb9",
        "colab": {
          "base_uri": "https://localhost:8080/",
          "height": 290
        }
      },
      "cell_type": "code",
      "source": [
        "draw_circle(0,1,22,23)"
      ],
      "execution_count": 0,
      "outputs": [
        {
          "output_type": "stream",
          "text": [
            "0.9575257636392311 -1.7016713267948966 0.29250082381486614\n"
          ],
          "name": "stdout"
        },
        {
          "output_type": "execute_result",
          "data": {
            "image/png": "[encoded data removed]",
            "text/plain": [
              "<PIL.Image.Image image mode=RGB size=256x256 at 0x7F7FF7ACC4E0>"
            ]
          },
          "metadata": {
            "tags": []
          },
          "execution_count": 21
        }
      ]
    },
    {
      "metadata": {
        "id": "5n4IC1Hg8BrV",
        "colab_type": "code",
        "outputId": "90e4b921-d1a6-4784-d3df-c35e34d640d4",
        "colab": {
          "base_uri": "https://localhost:8080/",
          "height": 290
        }
      },
      "cell_type": "code",
      "source": [
        "draw_circle(1,1.3, 1.7,2.0,2.2 ,2.4,2.7,3,10,12,14)"
      ],
      "execution_count": 0,
      "outputs": [
        {
          "output_type": "stream",
          "text": [
            "0.5190087934673331 -0.7907006721708472 1.0251054042201542\n"
          ],
          "name": "stdout"
        },
        {
          "output_type": "execute_result",
          "data": {
            "image/png": "[encoded data removed]",
            "text/plain": [
              "<PIL.Image.Image image mode=RGB size=256x256 at 0x7F7FF7AED0B8>"
            ]
          },
          "metadata": {
            "tags": []
          },
          "execution_count": 22
        }
      ]
    },
    {
      "metadata": {
        "id": "_mQa0Dwd2iFq",
        "colab_type": "text"
      },
      "cell_type": "markdown",
      "source": [
        ""
      ]
    },
    {
      "metadata": {
        "id": "QzQWGd4D2i4E",
        "colab_type": "code",
        "colab": {}
      },
      "cell_type": "code",
      "source": [
        ""
      ],
      "execution_count": 0,
      "outputs": []
    },
    {
      "metadata": {
        "id": "3zUq2-OS2jMB",
        "colab_type": "code",
        "colab": {}
      },
      "cell_type": "code",
      "source": [
        ""
      ],
      "execution_count": 0,
      "outputs": []
    },
    {
      "metadata": {
        "id": "nm0WaTBC9sUS",
        "colab_type": "code",
        "colab": {}
      },
      "cell_type": "code",
      "source": [
        "\"\"\" A BIT OF HACKED TOGETHER Spark \n",
        "\n",
        "\n",
        "from pyspark.sql import functions as F\n",
        "\n",
        "data = <some dataframe with users and timestamp ts> \n",
        "\n",
        "data.withColumn(\"rads\", (F.hour(F.col('ts'))*15 + \n",
        "                         F.minute(F.col('ts'))/4) * 3.14159/ 180  ) \\\n",
        "    .withColumn('sinT', F.sin(F.col('rads')))\\\n",
        "    .withColumn('cosT', F.cos(F.col('rads')))\\\n",
        "    .createOrReplaceTempView(\"data\")\n",
        "    \n",
        "q = spark.sql(\"select user, avg(sinT) AS s, avg(cosT) AS c FROM data group by user\")\n",
        "qn = q.withColumn(\"mean_hour\", (F.atan2(F.col('s'),\n",
        "                                        F.col('c'))\n",
        "                                /3.14159 * 12 + 24)%24) \\\n",
        "      .withColumn(\"std_hours\", F.acos(F.sqrt(F.pow( F.col('s'), 2) +  \n",
        "                                             F.pow( F.col('c'), 2)))\n",
        "                               /3.14159*12) \\\n",
        "      .drop('s') \\\n",
        "      .drop('c')\n",
        "\"\"\""
      ],
      "execution_count": 0,
      "outputs": []
    },
    {
      "metadata": {
        "id": "Ywwguyk0FTtq",
        "colab_type": "code",
        "colab": {}
      },
      "cell_type": "code",
      "source": [
        ""
      ],
      "execution_count": 0,
      "outputs": []
    }
  ]
}